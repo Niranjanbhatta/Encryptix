{
 "cells": [
  {
   "cell_type": "code",
   "execution_count": null,
   "metadata": {},
   "outputs": [],
   "source": [
    "pip install pandas joblib scikit-learn"
   ]
  },
  {
   "cell_type": "code",
   "execution_count": 4,
   "metadata": {},
   "outputs": [],
   "source": [
    "import os\n",
    "import csv\n",
    "import json\n",
    "import re\n",
    "import chardet\n",
    "import pandas as pd\n",
    "import joblib\n",
    "from sklearn.model_selection import train_test_split\n",
    "from sklearn.feature_extraction.text import TfidfVectorizer\n",
    "from sklearn.pipeline import Pipeline\n",
    "from sklearn.metrics import accuracy_score, classification_report\n",
    "from sklearn.naive_bayes import MultinomialNB"
   ]
  },
  {
   "cell_type": "code",
   "execution_count": 11,
   "metadata": {},
   "outputs": [
    {
     "name": "stdout",
     "output_type": "stream",
     "text": [
      "Conversion completed! JSON file 'd:\\Project\\AI_and_ML\\Supervised_Learning\\Spam_Detection\\Input_Json_Files\\spam.json' is ready.\n"
     ]
    }
   ],
   "source": [
    "# Get the base directory\n",
    "base_dir = os.getcwd()\n",
    "\n",
    "# Define input and output file paths\n",
    "input_file_path = os.path.join(base_dir, \"Input_Files\", \"spam.csv\")\n",
    "output_file_path = os.path.join(base_dir, \"Input_Json_Files\", \"spam.json\")\n",
    "\n",
    "# Detect encoding\n",
    "with open(input_file_path, 'rb') as raw_file:\n",
    "    result = chardet.detect(raw_file.read())\n",
    "    encoding_type = result['encoding']\n",
    "\n",
    "# Function to clean text\n",
    "def clean_text(text):\n",
    "    text = text.strip()  # Remove leading/trailing spaces\n",
    "    text = re.sub(r'\\s+', ' ', text)  # Normalize spaces\n",
    "    text = text.replace(',,', '')  # Remove unnecessary commas\n",
    "    return text\n",
    "\n",
    "# List to store cleaned data\n",
    "cleaned_data = []\n",
    "\n",
    "try:\n",
    "    # Read and clean the raw dataset with detected encoding\n",
    "    with open(input_file_path, 'r', encoding=encoding_type, errors='replace') as file:\n",
    "        reader = csv.reader(file)\n",
    "        next(reader)  # Skip the first row (header)\n",
    "\n",
    "        for row in reader:\n",
    "            if len(row) >= 2:  # Ensure row has at least label and message\n",
    "                label = row[0].strip().lower()  # Convert label to lowercase\n",
    "                message = clean_text(row[1])\n",
    "                cleaned_data.append({\"label\": label, \"message\": message})\n",
    "\n",
    "    # Create the necessary directories if they don't exist\n",
    "    os.makedirs(os.path.dirname(output_file_path), exist_ok=True)\n",
    "\n",
    "    # Save cleaned data as JSON\n",
    "    with open(output_file_path, 'w', encoding='utf-8') as json_file:\n",
    "        json.dump(cleaned_data, json_file, indent=4, ensure_ascii=False)\n",
    "\n",
    "    print(f\"Conversion completed! JSON file '{output_file_path}' is ready.\")\n",
    "except FileNotFoundError:\n",
    "    print(f\"Error: The file '{input_file_path}' was not found.\")\n",
    "except Exception as e:\n",
    "    print(f\"An error occurred: {e}\")\n"
   ]
  },
  {
   "cell_type": "code",
   "execution_count": null,
   "metadata": {},
   "outputs": [
    {
     "name": "stdout",
     "output_type": "stream",
     "text": [
      "d:\\Project\\AI_and_ML\\Supervised_Learning\\Spam_Detection\\Input_Json_Files\\spam.json\n"
     ]
    }
   ],
   "source": [
    "base_dir = os.getcwd()\n",
    "file_path = os.path.join(base_dir,\"Input_Json_Files\", \"spam.json\")\n",
    "print(file_path)\n"
   ]
  },
  {
   "cell_type": "code",
   "execution_count": 5,
   "metadata": {},
   "outputs": [],
   "source": [
    "df_train = pd.read_json(file_path)"
   ]
  },
  {
   "cell_type": "code",
   "execution_count": 6,
   "metadata": {},
   "outputs": [
    {
     "data": {
      "text/html": [
       "<div>\n",
       "<style scoped>\n",
       "    .dataframe tbody tr th:only-of-type {\n",
       "        vertical-align: middle;\n",
       "    }\n",
       "\n",
       "    .dataframe tbody tr th {\n",
       "        vertical-align: top;\n",
       "    }\n",
       "\n",
       "    .dataframe thead th {\n",
       "        text-align: right;\n",
       "    }\n",
       "</style>\n",
       "<table border=\"1\" class=\"dataframe\">\n",
       "  <thead>\n",
       "    <tr style=\"text-align: right;\">\n",
       "      <th></th>\n",
       "      <th>label</th>\n",
       "      <th>message</th>\n",
       "    </tr>\n",
       "  </thead>\n",
       "  <tbody>\n",
       "    <tr>\n",
       "      <th>0</th>\n",
       "      <td>ham</td>\n",
       "      <td>Go until jurong point, crazy.. Available only ...</td>\n",
       "    </tr>\n",
       "    <tr>\n",
       "      <th>1</th>\n",
       "      <td>ham</td>\n",
       "      <td>Ok lar... Joking wif u oni...</td>\n",
       "    </tr>\n",
       "    <tr>\n",
       "      <th>2</th>\n",
       "      <td>spam</td>\n",
       "      <td>Free entry in 2 a wkly comp to win FA Cup fina...</td>\n",
       "    </tr>\n",
       "    <tr>\n",
       "      <th>3</th>\n",
       "      <td>ham</td>\n",
       "      <td>U dun say so early hor... U c already then say...</td>\n",
       "    </tr>\n",
       "    <tr>\n",
       "      <th>4</th>\n",
       "      <td>ham</td>\n",
       "      <td>Nah I don't think he goes to usf, he lives aro...</td>\n",
       "    </tr>\n",
       "  </tbody>\n",
       "</table>\n",
       "</div>"
      ],
      "text/plain": [
       "  label                                            message\n",
       "0   ham  Go until jurong point, crazy.. Available only ...\n",
       "1   ham                      Ok lar... Joking wif u oni...\n",
       "2  spam  Free entry in 2 a wkly comp to win FA Cup fina...\n",
       "3   ham  U dun say so early hor... U c already then say...\n",
       "4   ham  Nah I don't think he goes to usf, he lives aro..."
      ]
     },
     "execution_count": 6,
     "metadata": {},
     "output_type": "execute_result"
    }
   ],
   "source": [
    "df_train.head(5)"
   ]
  },
  {
   "cell_type": "code",
   "execution_count": 11,
   "metadata": {},
   "outputs": [
    {
     "name": "stdout",
     "output_type": "stream",
     "text": [
      "Training data loaded successfully.\n",
      "Model training completed.\n",
      "Model Accuracy: 0.9623318385650225\n",
      "Classification Report:\n",
      "               precision    recall  f1-score   support\n",
      "\n",
      "         ham       0.96      1.00      0.98       965\n",
      "        spam       1.00      0.72      0.84       150\n",
      "\n",
      "    accuracy                           0.96      1115\n",
      "   macro avg       0.98      0.86      0.91      1115\n",
      "weighted avg       0.96      0.96      0.96      1115\n",
      "\n",
      "Model saved at 'd:\\Project\\AI_and_ML\\Supervised_Learning\\Spam_Detection\\Model_Trained\\spam_detection.pkl'.\n"
     ]
    }
   ],
   "source": [
    "def load_data(input_file):\n",
    "    \"\"\"\n",
    "    Load and preprocess the training data.\n",
    "    \"\"\"\n",
    "    try:\n",
    "        with open(input_file, 'r', encoding='utf-8') as file:\n",
    "            data = json.load(file)\n",
    "        print(\"Training data loaded successfully.\")\n",
    "        return data\n",
    "    except Exception as e:\n",
    "        print(f\"Error loading training data: {e}\")\n",
    "        return None\n",
    "\n",
    "def train_model(input_file, model_path):\n",
    "    \"\"\"\n",
    "    Train and save the spam classification model.\n",
    "    \"\"\"\n",
    "    # Load training data\n",
    "    data = load_data(input_file)\n",
    "    if not data:\n",
    "        return\n",
    "    \n",
    "    # Extract messages and labels\n",
    "    messages = [item[\"message\"] for item in data]\n",
    "    labels = [item[\"label\"] for item in data]\n",
    "    \n",
    "    # Split data into training and testing sets\n",
    "    X_train, X_test, y_train, y_test = train_test_split(messages, labels, test_size=0.2, random_state=42)\n",
    "    \n",
    "    # Create a text processing and classification pipeline\n",
    "    pipeline = Pipeline([\n",
    "        ('tfidf', TfidfVectorizer()),\n",
    "        ('clf', MultinomialNB())\n",
    "    ])\n",
    "    \n",
    "    # Train the model\n",
    "    pipeline.fit(X_train, y_train)\n",
    "    print(\"Model training completed.\")\n",
    "    \n",
    "    # Evaluate the model\n",
    "    y_pred = pipeline.predict(X_test)\n",
    "    print(\"Model Accuracy:\", accuracy_score(y_test, y_pred))\n",
    "    print(\"Classification Report:\\n\", classification_report(y_test, y_pred))\n",
    "    \n",
    "    # Ensure the Model_Trained directory exists\n",
    "    model_dir = os.path.dirname(model_path)\n",
    "    os.makedirs(model_dir, exist_ok=True)\n",
    "    \n",
    "    # Save the trained model\n",
    "    joblib.dump(pipeline, model_path)\n",
    "    print(f\"Model saved at '{model_path}'.\")\n",
    "\n",
    "if __name__ == \"__main__\":\n",
    "    # Path to the training data and model save location\n",
    "    input_file = os.path.join(os.getcwd(), \"Input_Json_Files\", \"spam.json\")\n",
    "    model_path = os.path.join(os.getcwd(), \"Model_Trained\", \"spam_detection.pkl\")\n",
    "    \n",
    "    train_model(input_file, model_path)"
   ]
  },
  {
   "cell_type": "code",
   "execution_count": 12,
   "metadata": {},
   "outputs": [
    {
     "name": "stdout",
     "output_type": "stream",
     "text": [
      "Training data loaded successfully.\n",
      "Model training completed.\n",
      "Model Accuracy: 0.9623318385650225\n",
      "Classification Report:\n",
      "               precision    recall  f1-score   support\n",
      "\n",
      "         ham       0.96      1.00      0.98       965\n",
      "        spam       1.00      0.72      0.84       150\n",
      "\n",
      "    accuracy                           0.96      1115\n",
      "   macro avg       0.98      0.86      0.91      1115\n",
      "weighted avg       0.96      0.96      0.96      1115\n",
      "\n",
      "Model saved at 'd:\\Project\\AI_and_ML\\Supervised_Learning\\Spam_Detection\\Model_Trained\\spam_detection.pkl'.\n",
      "Message: hello my name is niranjan\n",
      "Predicted Label: ham\n"
     ]
    }
   ],
   "source": [
    "def evaluate_model(model_path):\n",
    "    \"\"\"\n",
    "    Evaluate a single message using the trained model.\n",
    "    \"\"\"\n",
    "    try:\n",
    "        model = joblib.load(model_path)\n",
    "        message = input(\"Enter a message to classify: \")\n",
    "        prediction = model.predict([message])[0]\n",
    "        print(f\"Message: {message}\\nPredicted Label: {prediction}\")\n",
    "        return prediction\n",
    "    except Exception as e:\n",
    "        print(f\"Error loading model or predicting: {e}\")\n",
    "        return None\n",
    "\n",
    "if __name__ == \"__main__\":\n",
    "    # Path to the training data and model save location\n",
    "    model_path = os.path.join(os.getcwd(), \"Model_Trained\", \"spam_detection.pkl\")\n",
    "    \n",
    "    train_model(input_file, model_path)\n",
    "    \n",
    "    # Evaluate user input\n",
    "    evaluate_model(model_path)"
   ]
  }
 ],
 "metadata": {
  "kernelspec": {
   "display_name": "venv",
   "language": "python",
   "name": "python3"
  },
  "language_info": {
   "codemirror_mode": {
    "name": "ipython",
    "version": 3
   },
   "file_extension": ".py",
   "mimetype": "text/x-python",
   "name": "python",
   "nbconvert_exporter": "python",
   "pygments_lexer": "ipython3",
   "version": "3.13.2"
  }
 },
 "nbformat": 4,
 "nbformat_minor": 2
}
