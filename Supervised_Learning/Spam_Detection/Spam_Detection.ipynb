{
 "cells": [
  {
   "cell_type": "code",
   "execution_count": 5,
   "metadata": {},
   "outputs": [],
   "source": [
    "import os\n",
    "import csv\n",
    "import json\n",
    "import re\n",
    "import chardet"
   ]
  },
  {
   "cell_type": "code",
   "execution_count": 11,
   "metadata": {},
   "outputs": [
    {
     "name": "stdout",
     "output_type": "stream",
     "text": [
      "Conversion completed! JSON file 'd:\\Project\\AI_and_ML\\Supervised_Learning\\Spam_Detection\\Input_Json_Files\\spam.json' is ready.\n"
     ]
    }
   ],
   "source": [
    "# Get the base directory\n",
    "base_dir = os.getcwd()\n",
    "\n",
    "# Define input and output file paths\n",
    "input_file_path = os.path.join(base_dir, \"Input_Files\", \"spam.csv\")\n",
    "output_file_path = os.path.join(base_dir, \"Input_Json_Files\", \"spam.json\")\n",
    "\n",
    "# Detect encoding\n",
    "with open(input_file_path, 'rb') as raw_file:\n",
    "    result = chardet.detect(raw_file.read())\n",
    "    encoding_type = result['encoding']\n",
    "\n",
    "# Function to clean text\n",
    "def clean_text(text):\n",
    "    text = text.strip()  # Remove leading/trailing spaces\n",
    "    text = re.sub(r'\\s+', ' ', text)  # Normalize spaces\n",
    "    text = text.replace(',,', '')  # Remove unnecessary commas\n",
    "    return text\n",
    "\n",
    "# List to store cleaned data\n",
    "cleaned_data = []\n",
    "\n",
    "try:\n",
    "    # Read and clean the raw dataset with detected encoding\n",
    "    with open(input_file_path, 'r', encoding=encoding_type, errors='replace') as file:\n",
    "        reader = csv.reader(file)\n",
    "        next(reader)  # Skip the first row (header)\n",
    "\n",
    "        for row in reader:\n",
    "            if len(row) >= 2:  # Ensure row has at least label and message\n",
    "                label = row[0].strip().lower()  # Convert label to lowercase\n",
    "                message = clean_text(row[1])\n",
    "                cleaned_data.append({\"label\": label, \"message\": message})\n",
    "\n",
    "    # Create the necessary directories if they don't exist\n",
    "    os.makedirs(os.path.dirname(output_file_path), exist_ok=True)\n",
    "\n",
    "    # Save cleaned data as JSON\n",
    "    with open(output_file_path, 'w', encoding='utf-8') as json_file:\n",
    "        json.dump(cleaned_data, json_file, indent=4, ensure_ascii=False)\n",
    "\n",
    "    print(f\"Conversion completed! JSON file '{output_file_path}' is ready.\")\n",
    "except FileNotFoundError:\n",
    "    print(f\"Error: The file '{input_file_path}' was not found.\")\n",
    "except Exception as e:\n",
    "    print(f\"An error occurred: {e}\")\n"
   ]
  },
  {
   "cell_type": "code",
   "execution_count": null,
   "metadata": {},
   "outputs": [],
   "source": []
  }
 ],
 "metadata": {
  "kernelspec": {
   "display_name": "venv",
   "language": "python",
   "name": "python3"
  },
  "language_info": {
   "codemirror_mode": {
    "name": "ipython",
    "version": 3
   },
   "file_extension": ".py",
   "mimetype": "text/x-python",
   "name": "python",
   "nbconvert_exporter": "python",
   "pygments_lexer": "ipython3",
   "version": "3.13.2"
  }
 },
 "nbformat": 4,
 "nbformat_minor": 2
}
