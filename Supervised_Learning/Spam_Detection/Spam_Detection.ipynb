{
 "cells": [
  {
   "cell_type": "code",
   "execution_count": null,
   "metadata": {},
   "outputs": [],
   "source": [
    "pip install pandas joblib scikit-learn"
   ]
  },
  {
   "cell_type": "code",
   "execution_count": 9,
   "metadata": {},
   "outputs": [],
   "source": [
    "import os\n",
    "import csv\n",
    "import json\n",
    "import re\n",
    "import chardet\n",
    "import pandas as pd\n",
    "import joblib\n",
    "from sklearn.model_selection import train_test_split\n",
    "from sklearn.feature_extraction.text import TfidfVectorizer\n",
    "from sklearn.linear_model import LogisticRegression\n",
    "from sklearn.pipeline import Pipeline\n",
    "from sklearn.metrics import accuracy_score, classification_report"
   ]
  },
  {
   "cell_type": "code",
   "execution_count": 11,
   "metadata": {},
   "outputs": [
    {
     "name": "stdout",
     "output_type": "stream",
     "text": [
      "Conversion completed! JSON file 'd:\\Project\\AI_and_ML\\Supervised_Learning\\Spam_Detection\\Input_Json_Files\\spam.json' is ready.\n"
     ]
    }
   ],
   "source": [
    "# Get the base directory\n",
    "base_dir = os.getcwd()\n",
    "\n",
    "# Define input and output file paths\n",
    "input_file_path = os.path.join(base_dir, \"Input_Files\", \"spam.csv\")\n",
    "output_file_path = os.path.join(base_dir, \"Input_Json_Files\", \"spam.json\")\n",
    "\n",
    "# Detect encoding\n",
    "with open(input_file_path, 'rb') as raw_file:\n",
    "    result = chardet.detect(raw_file.read())\n",
    "    encoding_type = result['encoding']\n",
    "\n",
    "# Function to clean text\n",
    "def clean_text(text):\n",
    "    text = text.strip()  # Remove leading/trailing spaces\n",
    "    text = re.sub(r'\\s+', ' ', text)  # Normalize spaces\n",
    "    text = text.replace(',,', '')  # Remove unnecessary commas\n",
    "    return text\n",
    "\n",
    "# List to store cleaned data\n",
    "cleaned_data = []\n",
    "\n",
    "try:\n",
    "    # Read and clean the raw dataset with detected encoding\n",
    "    with open(input_file_path, 'r', encoding=encoding_type, errors='replace') as file:\n",
    "        reader = csv.reader(file)\n",
    "        next(reader)  # Skip the first row (header)\n",
    "\n",
    "        for row in reader:\n",
    "            if len(row) >= 2:  # Ensure row has at least label and message\n",
    "                label = row[0].strip().lower()  # Convert label to lowercase\n",
    "                message = clean_text(row[1])\n",
    "                cleaned_data.append({\"label\": label, \"message\": message})\n",
    "\n",
    "    # Create the necessary directories if they don't exist\n",
    "    os.makedirs(os.path.dirname(output_file_path), exist_ok=True)\n",
    "\n",
    "    # Save cleaned data as JSON\n",
    "    with open(output_file_path, 'w', encoding='utf-8') as json_file:\n",
    "        json.dump(cleaned_data, json_file, indent=4, ensure_ascii=False)\n",
    "\n",
    "    print(f\"Conversion completed! JSON file '{output_file_path}' is ready.\")\n",
    "except FileNotFoundError:\n",
    "    print(f\"Error: The file '{input_file_path}' was not found.\")\n",
    "except Exception as e:\n",
    "    print(f\"An error occurred: {e}\")\n"
   ]
  },
  {
   "cell_type": "code",
   "execution_count": null,
   "metadata": {},
   "outputs": [
    {
     "name": "stdout",
     "output_type": "stream",
     "text": [
      "d:\\Project\\AI_and_ML\\Supervised_Learning\\Spam_Detection\\Input_Json_Files\\spam.json\n"
     ]
    }
   ],
   "source": [
    "base_dir = os.getcwd()\n",
    "file_path = os.path.join(base_dir,\"Input_Json_Files\", \"spam.json\")\n",
    "print(file_path)\n"
   ]
  },
  {
   "cell_type": "code",
   "execution_count": 5,
   "metadata": {},
   "outputs": [],
   "source": [
    "df_train = pd.read_json(file_path)"
   ]
  },
  {
   "cell_type": "code",
   "execution_count": 6,
   "metadata": {},
   "outputs": [
    {
     "data": {
      "text/html": [
       "<div>\n",
       "<style scoped>\n",
       "    .dataframe tbody tr th:only-of-type {\n",
       "        vertical-align: middle;\n",
       "    }\n",
       "\n",
       "    .dataframe tbody tr th {\n",
       "        vertical-align: top;\n",
       "    }\n",
       "\n",
       "    .dataframe thead th {\n",
       "        text-align: right;\n",
       "    }\n",
       "</style>\n",
       "<table border=\"1\" class=\"dataframe\">\n",
       "  <thead>\n",
       "    <tr style=\"text-align: right;\">\n",
       "      <th></th>\n",
       "      <th>label</th>\n",
       "      <th>message</th>\n",
       "    </tr>\n",
       "  </thead>\n",
       "  <tbody>\n",
       "    <tr>\n",
       "      <th>0</th>\n",
       "      <td>ham</td>\n",
       "      <td>Go until jurong point, crazy.. Available only ...</td>\n",
       "    </tr>\n",
       "    <tr>\n",
       "      <th>1</th>\n",
       "      <td>ham</td>\n",
       "      <td>Ok lar... Joking wif u oni...</td>\n",
       "    </tr>\n",
       "    <tr>\n",
       "      <th>2</th>\n",
       "      <td>spam</td>\n",
       "      <td>Free entry in 2 a wkly comp to win FA Cup fina...</td>\n",
       "    </tr>\n",
       "    <tr>\n",
       "      <th>3</th>\n",
       "      <td>ham</td>\n",
       "      <td>U dun say so early hor... U c already then say...</td>\n",
       "    </tr>\n",
       "    <tr>\n",
       "      <th>4</th>\n",
       "      <td>ham</td>\n",
       "      <td>Nah I don't think he goes to usf, he lives aro...</td>\n",
       "    </tr>\n",
       "  </tbody>\n",
       "</table>\n",
       "</div>"
      ],
      "text/plain": [
       "  label                                            message\n",
       "0   ham  Go until jurong point, crazy.. Available only ...\n",
       "1   ham                      Ok lar... Joking wif u oni...\n",
       "2  spam  Free entry in 2 a wkly comp to win FA Cup fina...\n",
       "3   ham  U dun say so early hor... U c already then say...\n",
       "4   ham  Nah I don't think he goes to usf, he lives aro..."
      ]
     },
     "execution_count": 6,
     "metadata": {},
     "output_type": "execute_result"
    }
   ],
   "source": [
    "df_train.head(5)"
   ]
  },
  {
   "cell_type": "code",
   "execution_count": 12,
   "metadata": {},
   "outputs": [
    {
     "name": "stdout",
     "output_type": "stream",
     "text": [
      "Model Accuracy: 0.007174887892376682\n",
      "Pipeline saved to 'd:\\Project\\AI_and_ML\\Supervised_Learning\\Spam_Detection\\Model_Trained\\spam_detection.pkl'.\n"
     ]
    }
   ],
   "source": [
    "def load_data(filepath):\n",
    "    \"\"\"\n",
    "    Load data from a JSON file into a Pandas DataFrame.\n",
    "    \"\"\"\n",
    "    df = pd.read_json(filepath)\n",
    "    return df\n",
    "\n",
    "def preprocess_data(df):\n",
    "    \"\"\"\n",
    "    Preprocess the data by dropping rows with missing DESCRIPTION or GENRE.\n",
    "    \"\"\"\n",
    "    df = df.dropna(subset=['label', 'message'])\n",
    "    return df\n",
    "\n",
    "def train_model(train_file):\n",
    "    \"\"\"\n",
    "    Train a text classification model and save the pipeline.\n",
    "    \"\"\"\n",
    "    # Load and preprocess data\n",
    "    df = load_data(train_file)\n",
    "    df = preprocess_data(df)\n",
    "\n",
    "    # Split data into features (message) and target (label)\n",
    "    X_train, X_test, y_train, y_test = train_test_split(df['label'], df['message'], test_size=0.2, random_state=42)\n",
    "\n",
    "    # Create a pipeline with TF-IDF Vectorizer and Logistic Regression\n",
    "    pipeline = Pipeline([\n",
    "        ('tfidf', TfidfVectorizer(stop_words='english', max_features=5000)),\n",
    "        ('classifier', LogisticRegression(max_iter=1000, C=1.0))\n",
    "    ])\n",
    "\n",
    "    # Train the model\n",
    "    pipeline.fit(X_train, y_train)\n",
    "\n",
    "    # Evaluate the model\n",
    "    y_pred = pipeline.predict(X_test)\n",
    "    accuracy = accuracy_score(y_test, y_pred)\n",
    "    print(\"Model Accuracy:\", accuracy)\n",
    "\n",
    "    # Ensure Model_Trained directory exists\n",
    "    model_dir = os.path.join(os.getcwd(), \"Model_Trained\")\n",
    "    os.makedirs(model_dir, exist_ok=True)\n",
    "\n",
    "    # Save the entire pipeline (both vectorizer and model) in Model_Trained folder\n",
    "    model_output_path = os.path.join(model_dir, \"spam_detection.pkl\")\n",
    "    joblib.dump(pipeline, model_output_path)\n",
    "    print(f\"Pipeline saved to '{model_output_path}'.\")\n",
    "\n",
    "if __name__ == \"__main__\":\n",
    "    # Path to the training data\n",
    "    train_file = os.path.join(os.getcwd(),\"Input_Json_Files\", \"spam.json\")\n",
    "    train_model(train_file)\n"
   ]
  },
  {
   "cell_type": "code",
   "execution_count": null,
   "metadata": {},
   "outputs": [
    {
     "name": "stdout",
     "output_type": "stream",
     "text": [
      "Model loaded successfully.\n",
      "Please enter the description of the movie:\n",
      "The predicted genre for the movie is: Sorry, I'll call later\n"
     ]
    }
   ],
   "source": [
    "def load_model(model_path):\n",
    "    \"\"\"\n",
    "    Load the trained pipeline from the saved file.\n",
    "    \"\"\"\n",
    "    try:\n",
    "        pipeline = joblib.load(model_path)\n",
    "        print(\"Model loaded successfully.\")\n",
    "        return pipeline\n",
    "    except Exception as e:\n",
    "        print(f\"Error loading model: {e}\")\n",
    "        return None\n",
    "\n",
    "def predict_spam(model, message):\n",
    "    \"\"\"\n",
    "    Predict the genre of a movie based on its DESCRIPTION.\n",
    "    \"\"\"\n",
    "    try:\n",
    "        # Predict genre using the model\n",
    "        predicted_genre = model.predict([message])[0]\n",
    "\n",
    "        # Return the predicted genre\n",
    "        return predicted_genre\n",
    "    except Exception as e:\n",
    "        print(f\"Error predicting genre: {e}\")\n",
    "        return None\n",
    "\n",
    "def get_message():\n",
    "    \"\"\"\n",
    "    Prompt the user to input a movie description.\n",
    "    \"\"\"\n",
    "    print(\"Please enter the description of the movie:\")\n",
    "    description = input()  # Takes user input as description\n",
    "    return description\n",
    "\n",
    "def predict_spam_from_input(model_path):\n",
    "    \"\"\"\n",
    "    Load the model and predict the genre for an individual movie description.\n",
    "    \"\"\"\n",
    "    # Load the trained model\n",
    "    model = load_model(model_path)\n",
    "    if not model:\n",
    "        return\n",
    "\n",
    "    # Get movie description from user input\n",
    "    message = get_message()\n",
    "\n",
    "    # Predict genre\n",
    "    predicted_genre = predict_spam(model, message)\n",
    "\n",
    "    # Display the result\n",
    "    if predicted_genre:\n",
    "        print(f\"The message is: {predicted_genre} message\")\n",
    "    else:\n",
    "        print(\"Unable to predict genre.\")\n",
    "\n",
    "if __name__ == \"__main__\":\n",
    "    # Path to the trained model\n",
    "    model_path = os.path.join(os.getcwd(), \"Model_Trained\", \"spam_detection.pkl\")\n",
    "    \n",
    "    predict_spam_from_input(model_path)\n"
   ]
  },
  {
   "cell_type": "code",
   "execution_count": null,
   "metadata": {},
   "outputs": [],
   "source": []
  }
 ],
 "metadata": {
  "kernelspec": {
   "display_name": "venv",
   "language": "python",
   "name": "python3"
  },
  "language_info": {
   "codemirror_mode": {
    "name": "ipython",
    "version": 3
   },
   "file_extension": ".py",
   "mimetype": "text/x-python",
   "name": "python",
   "nbconvert_exporter": "python",
   "pygments_lexer": "ipython3",
   "version": "3.13.2"
  }
 },
 "nbformat": 4,
 "nbformat_minor": 2
}
